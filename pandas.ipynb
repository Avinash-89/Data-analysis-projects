{
 "cells": [
  {
   "cell_type": "code",
   "execution_count": 1,
   "metadata": {},
   "outputs": [],
   "source": [
    "import pandas as pd   \n",
    "import numpy as np"
   ]
  },
  {
   "cell_type": "code",
   "execution_count": 2,
   "metadata": {},
   "outputs": [],
   "source": [
    "np.random.seed(42) \n",
    "data = {\n",
    "'customer_id': np.random.randint(1000, 9999, 70),\n",
    "'product_id': np.random.randint(100, 999, 70),\n",
    "'category': np.random.choice(['Electronics', 'Clothing',\n",
    "'Grocery', 'Home'], 70),\n",
    "'price': np.random.uniform(10, 500, 70),\n",
    "'quantity': np.random.randint(1, 10, 70),\n",
    "'order_date': pd.date_range('2023-01-01', periods=70),\n",
    "'city': np.random.choice(['Delhi', 'Mumbai',\n",
    "'Bangalore', 'Kolkata'], 70),\n",
    "'state': np.random.choice(['Delhi', 'Maharashtra',\n",
    "'Karnataka', 'West Bengal'], 70),\n",
    "'store_id': np.random.randint(1, 10, 70),\n",
    "'discount_percent': np.random.uniform(0, 20, 70)\n",
    "}"
   ]
  },
  {
   "cell_type": "code",
   "execution_count": 3,
   "metadata": {},
   "outputs": [
    {
     "data": {
      "text/html": [
       "<div>\n",
       "<style scoped>\n",
       "    .dataframe tbody tr th:only-of-type {\n",
       "        vertical-align: middle;\n",
       "    }\n",
       "\n",
       "    .dataframe tbody tr th {\n",
       "        vertical-align: top;\n",
       "    }\n",
       "\n",
       "    .dataframe thead th {\n",
       "        text-align: right;\n",
       "    }\n",
       "</style>\n",
       "<table border=\"1\" class=\"dataframe\">\n",
       "  <thead>\n",
       "    <tr style=\"text-align: right;\">\n",
       "      <th></th>\n",
       "      <th>customer_id</th>\n",
       "      <th>product_id</th>\n",
       "      <th>category</th>\n",
       "      <th>price</th>\n",
       "      <th>quantity</th>\n",
       "      <th>order_date</th>\n",
       "      <th>city</th>\n",
       "      <th>state</th>\n",
       "      <th>store_id</th>\n",
       "      <th>discount_percent</th>\n",
       "    </tr>\n",
       "  </thead>\n",
       "  <tbody>\n",
       "    <tr>\n",
       "      <th>0</th>\n",
       "      <td>8270</td>\n",
       "      <td>152</td>\n",
       "      <td>Home</td>\n",
       "      <td>117.194468</td>\n",
       "      <td>9</td>\n",
       "      <td>2023-01-01</td>\n",
       "      <td>Bangalore</td>\n",
       "      <td>Karnataka</td>\n",
       "      <td>4</td>\n",
       "      <td>15.090857</td>\n",
       "    </tr>\n",
       "    <tr>\n",
       "      <th>1</th>\n",
       "      <td>1860</td>\n",
       "      <td>891</td>\n",
       "      <td>Grocery</td>\n",
       "      <td>283.469981</td>\n",
       "      <td>3</td>\n",
       "      <td>2023-01-02</td>\n",
       "      <td>Mumbai</td>\n",
       "      <td>Karnataka</td>\n",
       "      <td>5</td>\n",
       "      <td>2.062477</td>\n",
       "    </tr>\n",
       "    <tr>\n",
       "      <th>2</th>\n",
       "      <td>6390</td>\n",
       "      <td>316</td>\n",
       "      <td>Electronics</td>\n",
       "      <td>207.879724</td>\n",
       "      <td>9</td>\n",
       "      <td>2023-01-03</td>\n",
       "      <td>Kolkata</td>\n",
       "      <td>Karnataka</td>\n",
       "      <td>5</td>\n",
       "      <td>18.051058</td>\n",
       "    </tr>\n",
       "    <tr>\n",
       "      <th>3</th>\n",
       "      <td>6191</td>\n",
       "      <td>863</td>\n",
       "      <td>Home</td>\n",
       "      <td>41.797201</td>\n",
       "      <td>2</td>\n",
       "      <td>2023-01-04</td>\n",
       "      <td>Bangalore</td>\n",
       "      <td>West Bengal</td>\n",
       "      <td>7</td>\n",
       "      <td>10.105047</td>\n",
       "    </tr>\n",
       "    <tr>\n",
       "      <th>4</th>\n",
       "      <td>6734</td>\n",
       "      <td>287</td>\n",
       "      <td>Electronics</td>\n",
       "      <td>134.418553</td>\n",
       "      <td>2</td>\n",
       "      <td>2023-01-05</td>\n",
       "      <td>Delhi</td>\n",
       "      <td>West Bengal</td>\n",
       "      <td>4</td>\n",
       "      <td>16.529149</td>\n",
       "    </tr>\n",
       "    <tr>\n",
       "      <th>...</th>\n",
       "      <td>...</td>\n",
       "      <td>...</td>\n",
       "      <td>...</td>\n",
       "      <td>...</td>\n",
       "      <td>...</td>\n",
       "      <td>...</td>\n",
       "      <td>...</td>\n",
       "      <td>...</td>\n",
       "      <td>...</td>\n",
       "      <td>...</td>\n",
       "    </tr>\n",
       "    <tr>\n",
       "      <th>65</th>\n",
       "      <td>8892</td>\n",
       "      <td>653</td>\n",
       "      <td>Home</td>\n",
       "      <td>426.954940</td>\n",
       "      <td>2</td>\n",
       "      <td>2023-03-07</td>\n",
       "      <td>Mumbai</td>\n",
       "      <td>Karnataka</td>\n",
       "      <td>7</td>\n",
       "      <td>19.243451</td>\n",
       "    </tr>\n",
       "    <tr>\n",
       "      <th>66</th>\n",
       "      <td>7863</td>\n",
       "      <td>991</td>\n",
       "      <td>Home</td>\n",
       "      <td>468.461147</td>\n",
       "      <td>1</td>\n",
       "      <td>2023-03-08</td>\n",
       "      <td>Delhi</td>\n",
       "      <td>Delhi</td>\n",
       "      <td>5</td>\n",
       "      <td>7.497412</td>\n",
       "    </tr>\n",
       "    <tr>\n",
       "      <th>67</th>\n",
       "      <td>8916</td>\n",
       "      <td>560</td>\n",
       "      <td>Grocery</td>\n",
       "      <td>394.816919</td>\n",
       "      <td>8</td>\n",
       "      <td>2023-03-09</td>\n",
       "      <td>Kolkata</td>\n",
       "      <td>Maharashtra</td>\n",
       "      <td>1</td>\n",
       "      <td>5.714242</td>\n",
       "    </tr>\n",
       "    <tr>\n",
       "      <th>68</th>\n",
       "      <td>9529</td>\n",
       "      <td>790</td>\n",
       "      <td>Grocery</td>\n",
       "      <td>337.804245</td>\n",
       "      <td>1</td>\n",
       "      <td>2023-03-10</td>\n",
       "      <td>Kolkata</td>\n",
       "      <td>Maharashtra</td>\n",
       "      <td>7</td>\n",
       "      <td>17.371983</td>\n",
       "    </tr>\n",
       "    <tr>\n",
       "      <th>69</th>\n",
       "      <td>1878</td>\n",
       "      <td>674</td>\n",
       "      <td>Clothing</td>\n",
       "      <td>294.536445</td>\n",
       "      <td>9</td>\n",
       "      <td>2023-03-11</td>\n",
       "      <td>Mumbai</td>\n",
       "      <td>Maharashtra</td>\n",
       "      <td>7</td>\n",
       "      <td>4.471917</td>\n",
       "    </tr>\n",
       "  </tbody>\n",
       "</table>\n",
       "<p>70 rows × 10 columns</p>\n",
       "</div>"
      ],
      "text/plain": [
       "    customer_id  product_id     category       price  quantity order_date  \\\n",
       "0          8270         152         Home  117.194468         9 2023-01-01   \n",
       "1          1860         891      Grocery  283.469981         3 2023-01-02   \n",
       "2          6390         316  Electronics  207.879724         9 2023-01-03   \n",
       "3          6191         863         Home   41.797201         2 2023-01-04   \n",
       "4          6734         287  Electronics  134.418553         2 2023-01-05   \n",
       "..          ...         ...          ...         ...       ...        ...   \n",
       "65         8892         653         Home  426.954940         2 2023-03-07   \n",
       "66         7863         991         Home  468.461147         1 2023-03-08   \n",
       "67         8916         560      Grocery  394.816919         8 2023-03-09   \n",
       "68         9529         790      Grocery  337.804245         1 2023-03-10   \n",
       "69         1878         674     Clothing  294.536445         9 2023-03-11   \n",
       "\n",
       "         city        state  store_id  discount_percent  \n",
       "0   Bangalore    Karnataka         4         15.090857  \n",
       "1      Mumbai    Karnataka         5          2.062477  \n",
       "2     Kolkata    Karnataka         5         18.051058  \n",
       "3   Bangalore  West Bengal         7         10.105047  \n",
       "4       Delhi  West Bengal         4         16.529149  \n",
       "..        ...          ...       ...               ...  \n",
       "65     Mumbai    Karnataka         7         19.243451  \n",
       "66      Delhi        Delhi         5          7.497412  \n",
       "67    Kolkata  Maharashtra         1          5.714242  \n",
       "68    Kolkata  Maharashtra         7         17.371983  \n",
       "69     Mumbai  Maharashtra         7          4.471917  \n",
       "\n",
       "[70 rows x 10 columns]"
      ]
     },
     "execution_count": 3,
     "metadata": {},
     "output_type": "execute_result"
    }
   ],
   "source": [
    "df=pd.DataFrame(data)\n",
    "df"
   ]
  },
  {
   "cell_type": "code",
   "execution_count": 4,
   "metadata": {},
   "outputs": [
    {
     "data": {
      "text/plain": [
       "70"
      ]
     },
     "execution_count": 4,
     "metadata": {},
     "output_type": "execute_result"
    }
   ],
   "source": [
    "df['customer_id'].nunique()"
   ]
  },
  {
   "cell_type": "code",
   "execution_count": 5,
   "metadata": {},
   "outputs": [
    {
     "data": {
      "text/html": [
       "<div>\n",
       "<style scoped>\n",
       "    .dataframe tbody tr th:only-of-type {\n",
       "        vertical-align: middle;\n",
       "    }\n",
       "\n",
       "    .dataframe tbody tr th {\n",
       "        vertical-align: top;\n",
       "    }\n",
       "\n",
       "    .dataframe thead th {\n",
       "        text-align: right;\n",
       "    }\n",
       "</style>\n",
       "<table border=\"1\" class=\"dataframe\">\n",
       "  <thead>\n",
       "    <tr style=\"text-align: right;\">\n",
       "      <th></th>\n",
       "      <th>customer_id</th>\n",
       "      <th>product_id</th>\n",
       "      <th>category</th>\n",
       "      <th>price</th>\n",
       "      <th>quantity</th>\n",
       "      <th>order_date</th>\n",
       "      <th>city</th>\n",
       "      <th>state</th>\n",
       "      <th>store_id</th>\n",
       "      <th>discount_percent</th>\n",
       "      <th>total_sales</th>\n",
       "    </tr>\n",
       "  </thead>\n",
       "  <tbody>\n",
       "    <tr>\n",
       "      <th>0</th>\n",
       "      <td>8270</td>\n",
       "      <td>152</td>\n",
       "      <td>Home</td>\n",
       "      <td>117.194468</td>\n",
       "      <td>9</td>\n",
       "      <td>2023-01-01</td>\n",
       "      <td>Bangalore</td>\n",
       "      <td>Karnataka</td>\n",
       "      <td>4</td>\n",
       "      <td>15.090857</td>\n",
       "      <td>1054.750208</td>\n",
       "    </tr>\n",
       "    <tr>\n",
       "      <th>1</th>\n",
       "      <td>1860</td>\n",
       "      <td>891</td>\n",
       "      <td>Grocery</td>\n",
       "      <td>283.469981</td>\n",
       "      <td>3</td>\n",
       "      <td>2023-01-02</td>\n",
       "      <td>Mumbai</td>\n",
       "      <td>Karnataka</td>\n",
       "      <td>5</td>\n",
       "      <td>2.062477</td>\n",
       "      <td>850.409943</td>\n",
       "    </tr>\n",
       "    <tr>\n",
       "      <th>2</th>\n",
       "      <td>6390</td>\n",
       "      <td>316</td>\n",
       "      <td>Electronics</td>\n",
       "      <td>207.879724</td>\n",
       "      <td>9</td>\n",
       "      <td>2023-01-03</td>\n",
       "      <td>Kolkata</td>\n",
       "      <td>Karnataka</td>\n",
       "      <td>5</td>\n",
       "      <td>18.051058</td>\n",
       "      <td>1870.917514</td>\n",
       "    </tr>\n",
       "    <tr>\n",
       "      <th>3</th>\n",
       "      <td>6191</td>\n",
       "      <td>863</td>\n",
       "      <td>Home</td>\n",
       "      <td>41.797201</td>\n",
       "      <td>2</td>\n",
       "      <td>2023-01-04</td>\n",
       "      <td>Bangalore</td>\n",
       "      <td>West Bengal</td>\n",
       "      <td>7</td>\n",
       "      <td>10.105047</td>\n",
       "      <td>83.594402</td>\n",
       "    </tr>\n",
       "    <tr>\n",
       "      <th>4</th>\n",
       "      <td>6734</td>\n",
       "      <td>287</td>\n",
       "      <td>Electronics</td>\n",
       "      <td>134.418553</td>\n",
       "      <td>2</td>\n",
       "      <td>2023-01-05</td>\n",
       "      <td>Delhi</td>\n",
       "      <td>West Bengal</td>\n",
       "      <td>4</td>\n",
       "      <td>16.529149</td>\n",
       "      <td>268.837106</td>\n",
       "    </tr>\n",
       "    <tr>\n",
       "      <th>...</th>\n",
       "      <td>...</td>\n",
       "      <td>...</td>\n",
       "      <td>...</td>\n",
       "      <td>...</td>\n",
       "      <td>...</td>\n",
       "      <td>...</td>\n",
       "      <td>...</td>\n",
       "      <td>...</td>\n",
       "      <td>...</td>\n",
       "      <td>...</td>\n",
       "      <td>...</td>\n",
       "    </tr>\n",
       "    <tr>\n",
       "      <th>65</th>\n",
       "      <td>8892</td>\n",
       "      <td>653</td>\n",
       "      <td>Home</td>\n",
       "      <td>426.954940</td>\n",
       "      <td>2</td>\n",
       "      <td>2023-03-07</td>\n",
       "      <td>Mumbai</td>\n",
       "      <td>Karnataka</td>\n",
       "      <td>7</td>\n",
       "      <td>19.243451</td>\n",
       "      <td>853.909880</td>\n",
       "    </tr>\n",
       "    <tr>\n",
       "      <th>66</th>\n",
       "      <td>7863</td>\n",
       "      <td>991</td>\n",
       "      <td>Home</td>\n",
       "      <td>468.461147</td>\n",
       "      <td>1</td>\n",
       "      <td>2023-03-08</td>\n",
       "      <td>Delhi</td>\n",
       "      <td>Delhi</td>\n",
       "      <td>5</td>\n",
       "      <td>7.497412</td>\n",
       "      <td>468.461147</td>\n",
       "    </tr>\n",
       "    <tr>\n",
       "      <th>67</th>\n",
       "      <td>8916</td>\n",
       "      <td>560</td>\n",
       "      <td>Grocery</td>\n",
       "      <td>394.816919</td>\n",
       "      <td>8</td>\n",
       "      <td>2023-03-09</td>\n",
       "      <td>Kolkata</td>\n",
       "      <td>Maharashtra</td>\n",
       "      <td>1</td>\n",
       "      <td>5.714242</td>\n",
       "      <td>3158.535352</td>\n",
       "    </tr>\n",
       "    <tr>\n",
       "      <th>68</th>\n",
       "      <td>9529</td>\n",
       "      <td>790</td>\n",
       "      <td>Grocery</td>\n",
       "      <td>337.804245</td>\n",
       "      <td>1</td>\n",
       "      <td>2023-03-10</td>\n",
       "      <td>Kolkata</td>\n",
       "      <td>Maharashtra</td>\n",
       "      <td>7</td>\n",
       "      <td>17.371983</td>\n",
       "      <td>337.804245</td>\n",
       "    </tr>\n",
       "    <tr>\n",
       "      <th>69</th>\n",
       "      <td>1878</td>\n",
       "      <td>674</td>\n",
       "      <td>Clothing</td>\n",
       "      <td>294.536445</td>\n",
       "      <td>9</td>\n",
       "      <td>2023-03-11</td>\n",
       "      <td>Mumbai</td>\n",
       "      <td>Maharashtra</td>\n",
       "      <td>7</td>\n",
       "      <td>4.471917</td>\n",
       "      <td>2650.828001</td>\n",
       "    </tr>\n",
       "  </tbody>\n",
       "</table>\n",
       "<p>70 rows × 11 columns</p>\n",
       "</div>"
      ],
      "text/plain": [
       "    customer_id  product_id     category       price  quantity order_date  \\\n",
       "0          8270         152         Home  117.194468         9 2023-01-01   \n",
       "1          1860         891      Grocery  283.469981         3 2023-01-02   \n",
       "2          6390         316  Electronics  207.879724         9 2023-01-03   \n",
       "3          6191         863         Home   41.797201         2 2023-01-04   \n",
       "4          6734         287  Electronics  134.418553         2 2023-01-05   \n",
       "..          ...         ...          ...         ...       ...        ...   \n",
       "65         8892         653         Home  426.954940         2 2023-03-07   \n",
       "66         7863         991         Home  468.461147         1 2023-03-08   \n",
       "67         8916         560      Grocery  394.816919         8 2023-03-09   \n",
       "68         9529         790      Grocery  337.804245         1 2023-03-10   \n",
       "69         1878         674     Clothing  294.536445         9 2023-03-11   \n",
       "\n",
       "         city        state  store_id  discount_percent  total_sales  \n",
       "0   Bangalore    Karnataka         4         15.090857  1054.750208  \n",
       "1      Mumbai    Karnataka         5          2.062477   850.409943  \n",
       "2     Kolkata    Karnataka         5         18.051058  1870.917514  \n",
       "3   Bangalore  West Bengal         7         10.105047    83.594402  \n",
       "4       Delhi  West Bengal         4         16.529149   268.837106  \n",
       "..        ...          ...       ...               ...          ...  \n",
       "65     Mumbai    Karnataka         7         19.243451   853.909880  \n",
       "66      Delhi        Delhi         5          7.497412   468.461147  \n",
       "67    Kolkata  Maharashtra         1          5.714242  3158.535352  \n",
       "68    Kolkata  Maharashtra         7         17.371983   337.804245  \n",
       "69     Mumbai  Maharashtra         7          4.471917  2650.828001  \n",
       "\n",
       "[70 rows x 11 columns]"
      ]
     },
     "execution_count": 5,
     "metadata": {},
     "output_type": "execute_result"
    }
   ],
   "source": [
    "df['total_sales']=df['price']*df['quantity']\n",
    "df"
   ]
  },
  {
   "cell_type": "code",
   "execution_count": 6,
   "metadata": {},
   "outputs": [
    {
     "data": {
      "text/plain": [
       "np.float64(89105.42290303741)"
      ]
     },
     "execution_count": 6,
     "metadata": {},
     "output_type": "execute_result"
    }
   ],
   "source": [
    "df['total_sales'].sum()"
   ]
  },
  {
   "cell_type": "code",
   "execution_count": 7,
   "metadata": {},
   "outputs": [
    {
     "name": "stdout",
     "output_type": "stream",
     "text": [
      "253.23473540566178\n"
     ]
    }
   ],
   "source": [
    "average_price=df[(df['category']=='Electronics')] ['price'].mean()\n",
    "print(average_price)"
   ]
  },
  {
   "cell_type": "code",
   "execution_count": 8,
   "metadata": {},
   "outputs": [
    {
     "name": "stdout",
     "output_type": "stream",
     "text": [
      "114\n"
     ]
    }
   ],
   "source": [
    "grouped_data = df.groupby('product_id')['quantity'].sum()\n",
    "max_product_id = grouped_data.idxmax()  # Use idxmax to get the product_id with the highest quantity\n",
    "print(max_product_id)\n"
   ]
  },
  {
   "cell_type": "code",
   "execution_count": 9,
   "metadata": {},
   "outputs": [
    {
     "name": "stdout",
     "output_type": "stream",
     "text": [
      "Kolkata\n"
     ]
    }
   ],
   "source": [
    "max_sales_city = df.groupby('city')['total_sales'].sum().idxmax()\n",
    "print(max_sales_city)"
   ]
  },
  {
   "cell_type": "code",
   "execution_count": 10,
   "metadata": {},
   "outputs": [
    {
     "name": "stdout",
     "output_type": "stream",
     "text": [
      "category\n",
      "Clothing       75\n",
      "Electronics    96\n",
      "Grocery        63\n",
      "Home           75\n",
      "Name: quantity, dtype: int32\n"
     ]
    }
   ],
   "source": [
    "total_sales_quantity=df.groupby('category')['quantity'].sum()\n",
    "print(total_sales_quantity)"
   ]
  },
  {
   "cell_type": "code",
   "execution_count": 11,
   "metadata": {},
   "outputs": [
    {
     "data": {
      "text/html": [
       "<div>\n",
       "<style scoped>\n",
       "    .dataframe tbody tr th:only-of-type {\n",
       "        vertical-align: middle;\n",
       "    }\n",
       "\n",
       "    .dataframe tbody tr th {\n",
       "        vertical-align: top;\n",
       "    }\n",
       "\n",
       "    .dataframe thead th {\n",
       "        text-align: right;\n",
       "    }\n",
       "</style>\n",
       "<table border=\"1\" class=\"dataframe\">\n",
       "  <thead>\n",
       "    <tr style=\"text-align: right;\">\n",
       "      <th></th>\n",
       "      <th>customer_id</th>\n",
       "      <th>product_id</th>\n",
       "      <th>category</th>\n",
       "      <th>price</th>\n",
       "      <th>quantity</th>\n",
       "      <th>order_date</th>\n",
       "      <th>city</th>\n",
       "      <th>state</th>\n",
       "      <th>store_id</th>\n",
       "      <th>discount_percent</th>\n",
       "      <th>total_sales</th>\n",
       "    </tr>\n",
       "  </thead>\n",
       "  <tbody>\n",
       "    <tr>\n",
       "      <th>0</th>\n",
       "      <td>8270</td>\n",
       "      <td>152</td>\n",
       "      <td>Home</td>\n",
       "      <td>117.194468</td>\n",
       "      <td>9</td>\n",
       "      <td>2023-01-01</td>\n",
       "      <td>Bangalore</td>\n",
       "      <td>Karnataka</td>\n",
       "      <td>4</td>\n",
       "      <td>15.090857</td>\n",
       "      <td>1054.750208</td>\n",
       "    </tr>\n",
       "  </tbody>\n",
       "</table>\n",
       "</div>"
      ],
      "text/plain": [
       "   customer_id  product_id category       price  quantity order_date  \\\n",
       "0         8270         152     Home  117.194468         9 2023-01-01   \n",
       "\n",
       "        city      state  store_id  discount_percent  total_sales  \n",
       "0  Bangalore  Karnataka         4         15.090857  1054.750208  "
      ]
     },
     "execution_count": 11,
     "metadata": {},
     "output_type": "execute_result"
    }
   ],
   "source": [
    "df.head(1)"
   ]
  },
  {
   "cell_type": "code",
   "execution_count": 12,
   "metadata": {},
   "outputs": [
    {
     "name": "stdout",
     "output_type": "stream",
     "text": [
      "product_id\n",
      "104    90.302682\n",
      "114    60.702183\n",
      "127    53.450169\n",
      "132     5.917896\n",
      "140    17.676564\n",
      "         ...    \n",
      "956    40.170166\n",
      "957    51.920677\n",
      "970     1.651341\n",
      "971    21.302691\n",
      "991    35.122460\n",
      "Name: discount_price, Length: 67, dtype: float64\n"
     ]
    }
   ],
   "source": [
    "df['discount_price']=df['price']/100*df['discount_percent']\n",
    "average_discount=df.groupby('product_id')['discount_price'].mean()\n",
    "print(average_discount)"
   ]
  },
  {
   "cell_type": "code",
   "execution_count": 15,
   "metadata": {},
   "outputs": [
    {
     "data": {
      "text/html": [
       "<div>\n",
       "<style scoped>\n",
       "    .dataframe tbody tr th:only-of-type {\n",
       "        vertical-align: middle;\n",
       "    }\n",
       "\n",
       "    .dataframe tbody tr th {\n",
       "        vertical-align: top;\n",
       "    }\n",
       "\n",
       "    .dataframe thead th {\n",
       "        text-align: right;\n",
       "    }\n",
       "</style>\n",
       "<table border=\"1\" class=\"dataframe\">\n",
       "  <thead>\n",
       "    <tr style=\"text-align: right;\">\n",
       "      <th></th>\n",
       "      <th>customer_id</th>\n",
       "      <th>product_id</th>\n",
       "      <th>category</th>\n",
       "      <th>price</th>\n",
       "      <th>quantity</th>\n",
       "      <th>order_date</th>\n",
       "      <th>city</th>\n",
       "      <th>state</th>\n",
       "      <th>store_id</th>\n",
       "      <th>discount_percent</th>\n",
       "      <th>total_sales</th>\n",
       "      <th>discount_price</th>\n",
       "    </tr>\n",
       "  </thead>\n",
       "  <tbody>\n",
       "    <tr>\n",
       "      <th>0</th>\n",
       "      <td>8270</td>\n",
       "      <td>152</td>\n",
       "      <td>Home</td>\n",
       "      <td>117.194468</td>\n",
       "      <td>9</td>\n",
       "      <td>2023-01-01</td>\n",
       "      <td>Bangalore</td>\n",
       "      <td>Karnataka</td>\n",
       "      <td>4</td>\n",
       "      <td>15.090857</td>\n",
       "      <td>1054.750208</td>\n",
       "      <td>17.685650</td>\n",
       "    </tr>\n",
       "    <tr>\n",
       "      <th>1</th>\n",
       "      <td>1860</td>\n",
       "      <td>891</td>\n",
       "      <td>Grocery</td>\n",
       "      <td>283.469981</td>\n",
       "      <td>3</td>\n",
       "      <td>2023-01-02</td>\n",
       "      <td>Mumbai</td>\n",
       "      <td>Karnataka</td>\n",
       "      <td>5</td>\n",
       "      <td>2.062477</td>\n",
       "      <td>850.409943</td>\n",
       "      <td>5.846504</td>\n",
       "    </tr>\n",
       "    <tr>\n",
       "      <th>2</th>\n",
       "      <td>6390</td>\n",
       "      <td>316</td>\n",
       "      <td>Electronics</td>\n",
       "      <td>207.879724</td>\n",
       "      <td>9</td>\n",
       "      <td>2023-01-03</td>\n",
       "      <td>Kolkata</td>\n",
       "      <td>Karnataka</td>\n",
       "      <td>5</td>\n",
       "      <td>18.051058</td>\n",
       "      <td>1870.917514</td>\n",
       "      <td>37.524490</td>\n",
       "    </tr>\n",
       "    <tr>\n",
       "      <th>3</th>\n",
       "      <td>6191</td>\n",
       "      <td>863</td>\n",
       "      <td>Home</td>\n",
       "      <td>41.797201</td>\n",
       "      <td>2</td>\n",
       "      <td>2023-01-04</td>\n",
       "      <td>Bangalore</td>\n",
       "      <td>West Bengal</td>\n",
       "      <td>7</td>\n",
       "      <td>10.105047</td>\n",
       "      <td>83.594402</td>\n",
       "      <td>4.223627</td>\n",
       "    </tr>\n",
       "    <tr>\n",
       "      <th>4</th>\n",
       "      <td>6734</td>\n",
       "      <td>287</td>\n",
       "      <td>Electronics</td>\n",
       "      <td>134.418553</td>\n",
       "      <td>2</td>\n",
       "      <td>2023-01-05</td>\n",
       "      <td>Delhi</td>\n",
       "      <td>West Bengal</td>\n",
       "      <td>4</td>\n",
       "      <td>16.529149</td>\n",
       "      <td>268.837106</td>\n",
       "      <td>22.218243</td>\n",
       "    </tr>\n",
       "  </tbody>\n",
       "</table>\n",
       "</div>"
      ],
      "text/plain": [
       "   customer_id  product_id     category       price  quantity order_date  \\\n",
       "0         8270         152         Home  117.194468         9 2023-01-01   \n",
       "1         1860         891      Grocery  283.469981         3 2023-01-02   \n",
       "2         6390         316  Electronics  207.879724         9 2023-01-03   \n",
       "3         6191         863         Home   41.797201         2 2023-01-04   \n",
       "4         6734         287  Electronics  134.418553         2 2023-01-05   \n",
       "\n",
       "        city        state  store_id  discount_percent  total_sales  \\\n",
       "0  Bangalore    Karnataka         4         15.090857  1054.750208   \n",
       "1     Mumbai    Karnataka         5          2.062477   850.409943   \n",
       "2    Kolkata    Karnataka         5         18.051058  1870.917514   \n",
       "3  Bangalore  West Bengal         7         10.105047    83.594402   \n",
       "4      Delhi  West Bengal         4         16.529149   268.837106   \n",
       "\n",
       "   discount_price  \n",
       "0       17.685650  \n",
       "1        5.846504  \n",
       "2       37.524490  \n",
       "3        4.223627  \n",
       "4       22.218243  "
      ]
     },
     "execution_count": 15,
     "metadata": {},
     "output_type": "execute_result"
    }
   ],
   "source": [
    "df.head()"
   ]
  },
  {
   "cell_type": "code",
   "execution_count": 14,
   "metadata": {},
   "outputs": [
    {
     "name": "stdout",
     "output_type": "stream",
     "text": [
      "11\n"
     ]
    }
   ],
   "source": [
    "march_order=df[(df['order_date'].dt.month==3)]['product_id'].count()\n",
    "print(march_order)"
   ]
  },
  {
   "cell_type": "code",
   "execution_count": 17,
   "metadata": {},
   "outputs": [
    {
     "name": "stdout",
     "output_type": "stream",
     "text": [
      "state\n",
      "Delhi          20\n",
      "Karnataka      16\n",
      "Maharashtra    19\n",
      "West Bengal    15\n",
      "Name: product_id, dtype: int64\n"
     ]
    }
   ],
   "source": [
    "state_order=df.groupby('state')['product_id'].count()\n",
    "print(state_order)"
   ]
  },
  {
   "cell_type": "code",
   "execution_count": 21,
   "metadata": {},
   "outputs": [
    {
     "name": "stdout",
     "output_type": "stream",
     "text": [
      "product_id\n",
      "904    3784.301567\n",
      "114    3453.034227\n",
      "589    3209.512890\n",
      "560    3158.535352\n",
      "783    2962.047187\n",
      "Name: total_sales, dtype: float64\n"
     ]
    }
   ],
   "source": [
    "top_5=df.groupby('product_id')['total_sales'].sum().nlargest()\n",
    "print(top_5)"
   ]
  },
  {
   "cell_type": "code",
   "execution_count": 24,
   "metadata": {},
   "outputs": [],
   "source": [
    "df['month']=df['order_date'].dt.month\n",
    "monthly_sales=df.groupby('month')['total_sales'].sum()"
   ]
  },
  {
   "cell_type": "code",
   "execution_count": 26,
   "metadata": {},
   "outputs": [],
   "source": [
    "import matplotlib.pyplot as plt"
   ]
  },
  {
   "cell_type": "code",
   "execution_count": 31,
   "metadata": {},
   "outputs": [
    {
     "data": {
      "text/plain": [
       "<function matplotlib.pyplot.show(close=None, block=None)>"
      ]
     },
     "execution_count": 31,
     "metadata": {},
     "output_type": "execute_result"
    },
    {
     "data": {
      "image/png": "[encoded data removed]",
      "text/plain": [
       "<Figure size 640x480 with 1 Axes>"
      ]
     },
     "metadata": {},
     "output_type": "display_data"
    }
   ],
   "source": [
    "plt.plot(monthly_sales.index, monthly_sales.values, marker='o', color='red')\n",
    "plt.xlabel('month')\n",
    "plt.ylabel('total_sales')\n",
    "plt.title('Monthly Sales Trend')\n",
    "plt.grid(linestyle='--')\n",
    "plt.xticks([0,1,2,3,4])\n",
    "plt.show"
   ]
  },
  {
   "cell_type": "code",
   "execution_count": null,
   "metadata": {},
   "outputs": [],
   "source": []
  }
 ],
 "metadata": {
  "kernelspec": {
   "display_name": "Python 3",
   "language": "python",
   "name": "python3"
  },
  "language_info": {
   "codemirror_mode": {
    "name": "ipython",
    "version": 3
   },
   "file_extension": ".py",
   "mimetype": "text/x-python",
   "name": "python",
   "nbconvert_exporter": "python",
   "pygments_lexer": "ipython3",
   "version": "3.12.4"
  }
 },
 "nbformat": 4,
 "nbformat_minor": 2
}
